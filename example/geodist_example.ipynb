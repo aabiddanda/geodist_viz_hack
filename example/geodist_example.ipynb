{
 "cells": [
  {
   "cell_type": "code",
   "execution_count": 2,
   "metadata": {},
   "outputs": [],
   "source": [
    "import numpy as np \n",
    "import pandas as pd\n",
    "import matplotlib.pyplot as plt\n",
    "import seaborn as sns\n",
    "import gzip as gz"
   ]
  },
  {
   "cell_type": "code",
   "execution_count": 3,
   "metadata": {},
   "outputs": [],
   "source": [
    "# Defines the data files we will be working with!\n",
    "mac = '../data/ALL.chr22.phase3.genotypes.mac.gz'\n",
    "total = '../data/ALL.chr22.phase3.genotypes.total.gz'\n",
    "clst_labels = '../data/ALL.chr22.phase3.clst.gz'\n",
    "\n",
    "\n",
    "'''\n",
    "  Generate a set of data types to reduce memory overhead\n",
    "'''\n",
    "def data_type_dict(freq_file):\n",
    "    type_dict = {}\n",
    "    with gz.open(freq_file, 'rt') as f:\n",
    "        header = f.readline()\n",
    "        categories = header.split()\n",
    "        for i in categories:\n",
    "            if (i == 'A1') | (i == 'A2'):\n",
    "                type_dict[i] = 'category'\n",
    "            elif (i == 'CHR'):\n",
    "                type_dict[i] = 'uint8'\n",
    "            elif (i == 'SNP'):\n",
    "                type_dict[i] = 'uint64'\n",
    "            else:\n",
    "                type_dict[i] = 'uint32'\n",
    "    return(type_dict)\n",
    "\n",
    "\n",
    "'''\n",
    "  Reads in frequency file and cluster labels and join them for the output\n",
    " \n",
    "  Input:\n",
    "    - mac_file: file detailing multi-dimensional allele counts\n",
    "    - total_file: file detailing total number of chromosomes genotyped \n",
    "    - clst_labels : data file with [CHR, SNP, A1, A2, CLST] columns\n",
    "  Returns:\n",
    "    - merged_label_df : merged data table with all columns present\n",
    "    - pop_names : population labels that can be used in plotting later\n",
    "'''\n",
    "def read_freq_files(mac_file, total_file, clst_labels):\n",
    "    type_dict_mac = data_type_dict(mac_file)\n",
    "    type_dict_total = data_type_dict(total_file)\n",
    "    type_dict_clst = data_type_dict(clst_labels)\n",
    "    if 'DIST' in type_dict_clst:\n",
    "        del type_dict_clst['DIST']\n",
    "    mac_file_df = pd.read_table(mac_file, dtype=type_dict_mac, low_memory=True)\n",
    "    total_file_df = pd.read_table(total_file, dtype=type_dict_total, low_memory=True)\n",
    "    clst_labels_df = pd.read_table(clst_labels, dtype=type_dict_clst, low_memory=True)\n",
    "    merged_label_df = mac_file_df.merge(clst_labels_df, on=['CHR', 'SNP', 'A1', 'A2'])\n",
    "    total_file_merged_df = total_file_df.merge(clst_labels_df, on=['CHR','SNP','A1','A2'])\n",
    "    df_colnames = merged_label_df.columns\n",
    "    pop_names = df_colnames[np.isin(df_colnames, ['CHR', 'SNP', 'A1', 'A2', 'CLST', 'Label','DIST'], invert=True)]\n",
    "    return(merged_label_df, total_file_merged_df, pop_names)\n"
   ]
  },
  {
   "cell_type": "code",
   "execution_count": 7,
   "metadata": {},
   "outputs": [
    {
     "name": "stdout",
     "output_type": "stream",
     "text": [
      "CPU times: user 11.4 s, sys: 1.72 s, total: 13.1 s\n",
      "Wall time: 13.8 s\n"
     ]
    }
   ],
   "source": [
    "%%time\n",
    "merged_mac_df, merged_total_df, pop_names = read_freq_files(mac, total, clst_labels)"
   ]
  },
  {
   "cell_type": "code",
   "execution_count": 12,
   "metadata": {},
   "outputs": [],
   "source": [
    "# Filtering to a random subset of the SNPs from the original data\n",
    "#1. Subsample\n",
    "thinning = 10000\n",
    "idx_rand = np.random.randint(0,merged_mac_df.shape[0],thinning)\n",
    "\n",
    "# Subsetting the minor allele count and the total\n",
    "mac_idx = np.array(merged_mac_df[pop_names], dtype=np.uint32)[idx_rand,:]\n",
    "total_idx = np.array(merged_total_df[pop_names], dtype=np.uint32)[idx_rand,:]\n",
    "subsample_X = mac_idx / total_idx\n",
    "\n",
    "# Setting nans to be 0\n",
    "np.nan_to_num(subsample_X, copy=False)\n",
    "subsample_clst_labels = np.array(merged_mac_df['CLST'])[idx_rand]"
   ]
  },
  {
   "cell_type": "code",
   "execution_count": 13,
   "metadata": {},
   "outputs": [],
   "source": [
    "\n",
    "\n",
    "'''\n",
    "  Categorizes clusters based on their labels\n",
    "  \n",
    "  Input:\n",
    "    - X : multidimensional SFS (snp x pops)\n",
    "    - labels : numpy array of cluster labels (per snp)\n",
    "  Returns:\n",
    "    - clst_data_dict: dictionary of data \n",
    "    - k : list of labels\n",
    "'''\n",
    "def cluster_specific_split(X,labels):\n",
    "    if X.shape[0] != len(labels):\n",
    "        raise ValueError('rows of X does not equal the number of labels!')\n",
    "    k = np.unique(labels)\n",
    "    clst_data_dict = {}\n",
    "    for i in k:\n",
    "        subs_data = X[(labels == i), :]\n",
    "        clst_data_dict[i] = subs_data\n",
    "    return(clst_data_dict, k)\n",
    "\n",
    "\n",
    "'''\n",
    "  Transform MAF to log10 scale\n",
    "      - all of the 0 entries are replaced with 0 again \n",
    "'''\n",
    "def rescale_log(X, eps):\n",
    "    A = np.log10(X + eps)\n",
    "    return(A)\n",
    "\n",
    " \n",
    "'''\n",
    "  Creates output data for plotting clustering of allele frequencies\n",
    "  \n",
    "  Input:\n",
    "    - X : multidimensional SFS\n",
    "    - labels : clustering labels\n",
    "    - spc : pixel spacing between cluster rows\n",
    "    - eps : value given to masked rows\n",
    "    - mean : boolean to take the mean of each row\n",
    "    - sort_af : sort clusters by minor allele frequency\n",
    "  Output:\n",
    "    - aggregated : restructured numpy matrix to plot\n",
    "    - tick_idx : places for tick marks in clustermap\n",
    "    - tick_label : cluster labelings for each tick\n",
    "'''\n",
    "def extract_clustering_means(X, labels, spc=5, eps=1e-8, mean=False, sort_af=True):\n",
    "    sorted_list, k = cluster_specific_split(X,labels)\n",
    "    n_clust = len(k)\n",
    "    if sort_af:\n",
    "        mean_maf = [np.mean(sorted_list[i]) for i in k]\n",
    "        k2 = np.argsort(mean_maf)[::-1]\n",
    "    else:\n",
    "        k2 = k\n",
    "    aggregated = np.zeros(((X.shape[0]+spc*n_clust),X.shape[1]))\n",
    "    row_count = 0\n",
    "    tick_idx = []\n",
    "    tick_label = []\n",
    "    for i in range(n_clust):\n",
    "        cur_x = sorted_list[k2[i]]\n",
    "        tick_label.append(str(i))\n",
    "        if mean:\n",
    "            cur_x_mean = np.mean(cur_x , axis=0)\n",
    "            for x in range(cur_x.shape[0]):\n",
    "                cur_x[x,:] = cur_x_mean\n",
    "        n_row = cur_x.shape[0]\n",
    "        tick_idx.append(row_count+int((n_row/2)))\n",
    "        aggregated[row_count:(row_count+n_row),:] = cur_x\n",
    "        row_count += n_row\n",
    "        a = np.empty((spc,X.shape[1]))\n",
    "        a[:] = eps\n",
    "        aggregated[row_count:row_count+spc,:] = a\n",
    "        row_count += spc\n",
    "    return(aggregated, tick_idx, tick_label)"
   ]
  },
  {
   "cell_type": "code",
   "execution_count": 14,
   "metadata": {},
   "outputs": [
    {
     "name": "stdout",
     "output_type": "stream",
     "text": [
      "CPU times: user 10.6 ms, sys: 7.49 ms, total: 18.1 ms\n",
      "Wall time: 16.5 ms\n"
     ]
    }
   ],
   "source": [
    "# Setting spacing in the plots and the fudge factor for the log-scaling \n",
    "spc=100\n",
    "eps=1e-6\n",
    "mean=False\n",
    "%time clstr_plots, tick_id, tick_labels = extract_clustering_means(subsample_X, subsample_clst_labels, spc=spc, eps=eps, mean=mean, sort_af=True)"
   ]
  },
  {
   "cell_type": "code",
   "execution_count": 15,
   "metadata": {},
   "outputs": [
    {
     "data": {
      "image/png": "[encoded data removed]",
      "text/plain": [
       "<Figure size 720x720 with 4 Axes>"
      ]
     },
     "metadata": {},
     "output_type": "display_data"
    }
   ],
   "source": [
    "masked = (clstr_plots == eps)\n",
    "\n",
    "#3. Heatmap\n",
    "logscale=True\n",
    "A = rescale_log(clstr_plots, eps=eps) if logscale else clstr_plots\n",
    "label = r'$log_{10}(MAF)$' if logscale else r'MAF' \n",
    "\n",
    "g = sns.clustermap(A, row_cluster=False, yticklabels=[], xticklabels=pop_names, cmap='viridis', mask=masked, cbar_kws={\"label\":label})\n",
    "g.ax_heatmap.set_yticks(tick_id);\n",
    "g.ax_heatmap.set_yticklabels(tick_labels);\n",
    "g.ax_heatmap.set_xlabel(r'Populations', fontsize=14);\n",
    "g.ax_heatmap.set_ylabel(r'Clusters', fontsize=14);"
   ]
  },
  {
   "cell_type": "code",
   "execution_count": null,
   "metadata": {},
   "outputs": [],
   "source": []
  }
 ],
 "metadata": {
  "kernelspec": {
   "display_name": "Python 3",
   "language": "python",
   "name": "python3"
  },
  "language_info": {
   "codemirror_mode": {
    "name": "ipython",
    "version": 3
   },
   "file_extension": ".py",
   "mimetype": "text/x-python",
   "name": "python",
   "nbconvert_exporter": "python",
   "pygments_lexer": "ipython3",
   "version": "3.6.5"
  }
 },
 "nbformat": 4,
 "nbformat_minor": 2
}
